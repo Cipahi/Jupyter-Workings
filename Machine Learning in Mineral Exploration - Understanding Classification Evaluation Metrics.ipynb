{
 "cells": [
  {
   "cell_type": "markdown",
   "metadata": {},
   "source": [
    "# Machine Learning in Mineral Exploration - Understanding Classification Evaluation Metrics"
   ]
  },
  {
   "cell_type": "markdown",
   "metadata": {},
   "source": [
    "### This notebook Iooks at different methods of evaluating ML model performance using mineral exploration data. It contains details on cross validating data using Scikit Learn's GroupShuffleSplit function to reduce the effects of spatial autocorrelation and how to construct a pipeline for ML model creation. The notebook then explains evaluation metrics such as Accuracy, Precision, Recall, the F1 score and the Receiver Operating Characteristic curve. "
   ]
  },
  {
   "attachments": {},
   "cell_type": "markdown",
   "metadata": {},
   "source": [
    "<img src=\"Images/TITLE.png\" />"
   ]
  },
  {
   "cell_type": "markdown",
   "metadata": {},
   "source": [
    "To get started we'll import all the libraries needed in this notebook."
   ]
  },
  {
   "cell_type": "code",
   "execution_count": 1,
   "metadata": {},
   "outputs": [],
   "source": [
    "#Importing Libraries\n",
    "import pandas as pd\n",
    "import numpy as np\n",
    "import itertools\n",
    "from scipy import stats\n",
    "from scipy import interp\n",
    "\n",
    "import matplotlib.pyplot as plt\n",
    "import plotly.express as px\n",
    "import ipywidgets as widgets\n",
    "from matplotlib.patches import Patch\n",
    "\n",
    "from sklearn.model_selection import GroupShuffleSplit\n",
    "from sklearn.pipeline import Pipeline\n",
    "from sklearn.preprocessing import MinMaxScaler\n",
    "from sklearn.svm import SVC\n",
    "from sklearn.model_selection import cross_val_score\n",
    "from sklearn.model_selection import cross_val_predict\n",
    "from sklearn.metrics import classification_report\n",
    "from sklearn.metrics import accuracy_score\n",
    "from sklearn.metrics import precision_score\n",
    "from sklearn.metrics import recall_score\n",
    "from sklearn.metrics import f1_score\n",
    "from sklearn.metrics import auc\n",
    "from sklearn.metrics import roc_curve\n",
    "from sklearn.metrics import confusion_matrix, accuracy_score\n",
    "from mlxtend.plotting import plot_confusion_matrix\n",
    "from sklearn.metrics import plot_roc_curve\n",
    "\n",
    "import warnings\n",
    "warnings.filterwarnings('ignore')\n",
    "pd.options.display.max_columns = None"
   ]
  },
  {
   "cell_type": "markdown",
   "metadata": {},
   "source": [
    "## The Data"
   ]
  },
  {
   "cell_type": "markdown",
   "metadata": {},
   "source": [
    "The study area for this notebook is the Gawler Craton in South Australia and our task is to use machine learning to predict areas of potential base metal mineralisation. The feature dataset we'll be using is a combination of geophysical and geological spatial data taken from SARIG and the Unearthed ExploreSA Gawler Challenge (definitely worth checking out for anyone keen on accessing high quality geological data and potentially earning some cash prizes). The target feature is 'Area of Interest' (AOI) and is defined as being 0 for a barren area or 1 for a mineralised area. Mineralisation in this case refers to areas of elevated base metals (Au, Cu, Pb, Zn and/or Ag) that are related to hydrothermal or magmatic intrusive sources (such as Olympic Dam or Carapateena). These locations have been chosen based upon a combination of existing mines/deposit locations and drillhole assays. "
   ]
  },
  {
   "attachments": {},
   "cell_type": "markdown",
   "metadata": {},
   "source": [
    "<img src=\"Images/AOI.png\" />"
   ]
  },
  {
   "cell_type": "markdown",
   "metadata": {},
   "source": [
    "All features were preprocessed as raster images in QGIS and data was sampled at 500m x 500m pixel size. As the main focus of this notebook is to look at classification evaluation metrics, we won't go into feature preprocessing and selection steps for this dataset. For reference, all 15 features used in this example can be seen below."
   ]
  },
  {
   "attachments": {},
   "cell_type": "markdown",
   "metadata": {},
   "source": [
    "<img src=\"Images/FEATURES.png\" />"
   ]
  },
  {
   "cell_type": "markdown",
   "metadata": {},
   "source": [
    "The raster images were converted into 1D numerical arrays and concatenated into a DataFrame, a process similarly seen in [this post](https://medium.com/@jackmaughan_50251/mineral-prediction-mapping-with-machine-learning-67a3846b3544). Next the data from the known areas of interest (both barren and mineralised) was extracted and stored into a csv file. Let's read it in and make some magic. "
   ]
  },
  {
   "cell_type": "code",
   "execution_count": 2,
   "metadata": {},
   "outputs": [],
   "source": [
    "#Reading in the DataFrame\n",
    "df = pd.read_csv('/Users/jackmaughan/Desktop/Gawler_Features.csv')"
   ]
  },
  {
   "cell_type": "code",
   "execution_count": 3,
   "metadata": {},
   "outputs": [
    {
     "data": {
      "text/html": [
       "<div>\n",
       "<style scoped>\n",
       "    .dataframe tbody tr th:only-of-type {\n",
       "        vertical-align: middle;\n",
       "    }\n",
       "\n",
       "    .dataframe tbody tr th {\n",
       "        vertical-align: top;\n",
       "    }\n",
       "\n",
       "    .dataframe thead th {\n",
       "        text-align: right;\n",
       "    }\n",
       "</style>\n",
       "<table border=\"1\" class=\"dataframe\">\n",
       "  <thead>\n",
       "    <tr style=\"text-align: right;\">\n",
       "      <th></th>\n",
       "      <th>Areas_of_Interest</th>\n",
       "      <th>IP_100000m</th>\n",
       "      <th>IP_10000m</th>\n",
       "      <th>IP_150000m</th>\n",
       "      <th>IP_200000m</th>\n",
       "      <th>IP_20000m</th>\n",
       "      <th>IP_50000m</th>\n",
       "      <th>Log_Distance_To_Faults</th>\n",
       "      <th>Log_Distance_to_Archaean_Contact</th>\n",
       "      <th>Log_TMI_Merged_Slope</th>\n",
       "      <th>SA_GRAV</th>\n",
       "      <th>SA_GRAV_1VD</th>\n",
       "      <th>SA_TMI_RTP</th>\n",
       "      <th>SA_TMI_VRTP_1VD</th>\n",
       "      <th>SA_TMI_VRTP_PSDGRAV</th>\n",
       "      <th>TMI_Merged</th>\n",
       "      <th>Zones</th>\n",
       "    </tr>\n",
       "  </thead>\n",
       "  <tbody>\n",
       "    <tr>\n",
       "      <th>0</th>\n",
       "      <td>1</td>\n",
       "      <td>2.820883</td>\n",
       "      <td>1.816062</td>\n",
       "      <td>2.987117</td>\n",
       "      <td>2.957402</td>\n",
       "      <td>1.764848</td>\n",
       "      <td>2.097355</td>\n",
       "      <td>8.562915</td>\n",
       "      <td>8.344032</td>\n",
       "      <td>1.923039</td>\n",
       "      <td>-4.934392</td>\n",
       "      <td>0.005453</td>\n",
       "      <td>453.28296</td>\n",
       "      <td>0.143676</td>\n",
       "      <td>-39.836740</td>\n",
       "      <td>1086.61840</td>\n",
       "      <td>2</td>\n",
       "    </tr>\n",
       "    <tr>\n",
       "      <th>1</th>\n",
       "      <td>0</td>\n",
       "      <td>2.804557</td>\n",
       "      <td>1.727324</td>\n",
       "      <td>2.977050</td>\n",
       "      <td>2.941502</td>\n",
       "      <td>1.602638</td>\n",
       "      <td>1.983393</td>\n",
       "      <td>8.834721</td>\n",
       "      <td>8.834721</td>\n",
       "      <td>1.128845</td>\n",
       "      <td>-5.194043</td>\n",
       "      <td>0.004025</td>\n",
       "      <td>498.98422</td>\n",
       "      <td>0.078441</td>\n",
       "      <td>-31.141480</td>\n",
       "      <td>617.73390</td>\n",
       "      <td>2</td>\n",
       "    </tr>\n",
       "    <tr>\n",
       "      <th>2</th>\n",
       "      <td>0</td>\n",
       "      <td>2.694229</td>\n",
       "      <td>1.689944</td>\n",
       "      <td>2.908677</td>\n",
       "      <td>2.768212</td>\n",
       "      <td>1.659999</td>\n",
       "      <td>2.079083</td>\n",
       "      <td>7.753500</td>\n",
       "      <td>10.151846</td>\n",
       "      <td>0.268313</td>\n",
       "      <td>-1.303209</td>\n",
       "      <td>-0.000570</td>\n",
       "      <td>-272.42166</td>\n",
       "      <td>-0.008299</td>\n",
       "      <td>-29.730923</td>\n",
       "      <td>266.01080</td>\n",
       "      <td>1</td>\n",
       "    </tr>\n",
       "    <tr>\n",
       "      <th>3</th>\n",
       "      <td>0</td>\n",
       "      <td>2.754284</td>\n",
       "      <td>1.686444</td>\n",
       "      <td>2.959255</td>\n",
       "      <td>2.892921</td>\n",
       "      <td>1.453064</td>\n",
       "      <td>1.571984</td>\n",
       "      <td>7.875227</td>\n",
       "      <td>8.661335</td>\n",
       "      <td>-0.235854</td>\n",
       "      <td>-5.091807</td>\n",
       "      <td>0.005596</td>\n",
       "      <td>101.18466</td>\n",
       "      <td>0.016376</td>\n",
       "      <td>-31.054740</td>\n",
       "      <td>568.47980</td>\n",
       "      <td>2</td>\n",
       "    </tr>\n",
       "    <tr>\n",
       "      <th>4</th>\n",
       "      <td>0</td>\n",
       "      <td>2.735122</td>\n",
       "      <td>1.748282</td>\n",
       "      <td>2.863593</td>\n",
       "      <td>2.700618</td>\n",
       "      <td>1.788256</td>\n",
       "      <td>2.230790</td>\n",
       "      <td>8.319839</td>\n",
       "      <td>9.452106</td>\n",
       "      <td>2.027054</td>\n",
       "      <td>-7.236649</td>\n",
       "      <td>0.002715</td>\n",
       "      <td>-166.96223</td>\n",
       "      <td>-0.189150</td>\n",
       "      <td>-35.360264</td>\n",
       "      <td>236.68782</td>\n",
       "      <td>4</td>\n",
       "    </tr>\n",
       "    <tr>\n",
       "      <th>...</th>\n",
       "      <td>...</td>\n",
       "      <td>...</td>\n",
       "      <td>...</td>\n",
       "      <td>...</td>\n",
       "      <td>...</td>\n",
       "      <td>...</td>\n",
       "      <td>...</td>\n",
       "      <td>...</td>\n",
       "      <td>...</td>\n",
       "      <td>...</td>\n",
       "      <td>...</td>\n",
       "      <td>...</td>\n",
       "      <td>...</td>\n",
       "      <td>...</td>\n",
       "      <td>...</td>\n",
       "      <td>...</td>\n",
       "      <td>...</td>\n",
       "    </tr>\n",
       "    <tr>\n",
       "      <th>329</th>\n",
       "      <td>0</td>\n",
       "      <td>3.116837</td>\n",
       "      <td>1.988076</td>\n",
       "      <td>2.940882</td>\n",
       "      <td>2.862363</td>\n",
       "      <td>2.153999</td>\n",
       "      <td>3.174888</td>\n",
       "      <td>8.329572</td>\n",
       "      <td>8.381520</td>\n",
       "      <td>2.693192</td>\n",
       "      <td>-12.704970</td>\n",
       "      <td>0.000340</td>\n",
       "      <td>378.96430</td>\n",
       "      <td>0.153007</td>\n",
       "      <td>62.621030</td>\n",
       "      <td>468.72240</td>\n",
       "      <td>25</td>\n",
       "    </tr>\n",
       "    <tr>\n",
       "      <th>330</th>\n",
       "      <td>0</td>\n",
       "      <td>3.159340</td>\n",
       "      <td>2.689270</td>\n",
       "      <td>2.866878</td>\n",
       "      <td>2.767384</td>\n",
       "      <td>3.041932</td>\n",
       "      <td>3.536589</td>\n",
       "      <td>9.613204</td>\n",
       "      <td>7.745506</td>\n",
       "      <td>0.558646</td>\n",
       "      <td>-13.346372</td>\n",
       "      <td>0.001905</td>\n",
       "      <td>194.91040</td>\n",
       "      <td>0.019076</td>\n",
       "      <td>68.996994</td>\n",
       "      <td>211.59685</td>\n",
       "      <td>25</td>\n",
       "    </tr>\n",
       "    <tr>\n",
       "      <th>331</th>\n",
       "      <td>1</td>\n",
       "      <td>3.285728</td>\n",
       "      <td>4.652879</td>\n",
       "      <td>3.340603</td>\n",
       "      <td>3.319970</td>\n",
       "      <td>3.898999</td>\n",
       "      <td>3.571000</td>\n",
       "      <td>8.210844</td>\n",
       "      <td>7.003810</td>\n",
       "      <td>1.103104</td>\n",
       "      <td>-14.116680</td>\n",
       "      <td>0.000169</td>\n",
       "      <td>-260.99580</td>\n",
       "      <td>-0.081170</td>\n",
       "      <td>22.559025</td>\n",
       "      <td>-107.31129</td>\n",
       "      <td>24</td>\n",
       "    </tr>\n",
       "    <tr>\n",
       "      <th>332</th>\n",
       "      <td>0</td>\n",
       "      <td>3.604119</td>\n",
       "      <td>3.760238</td>\n",
       "      <td>3.513945</td>\n",
       "      <td>3.417534</td>\n",
       "      <td>4.020409</td>\n",
       "      <td>4.223606</td>\n",
       "      <td>7.805900</td>\n",
       "      <td>7.657473</td>\n",
       "      <td>2.708588</td>\n",
       "      <td>-22.919182</td>\n",
       "      <td>-0.000111</td>\n",
       "      <td>-149.89143</td>\n",
       "      <td>-0.198861</td>\n",
       "      <td>21.142788</td>\n",
       "      <td>306.70895</td>\n",
       "      <td>24</td>\n",
       "    </tr>\n",
       "    <tr>\n",
       "      <th>333</th>\n",
       "      <td>0</td>\n",
       "      <td>3.239240</td>\n",
       "      <td>4.677991</td>\n",
       "      <td>3.321368</td>\n",
       "      <td>3.308086</td>\n",
       "      <td>3.865748</td>\n",
       "      <td>3.416893</td>\n",
       "      <td>8.792702</td>\n",
       "      <td>6.806474</td>\n",
       "      <td>4.039874</td>\n",
       "      <td>-15.094396</td>\n",
       "      <td>0.000439</td>\n",
       "      <td>117.90577</td>\n",
       "      <td>1.828585</td>\n",
       "      <td>22.414600</td>\n",
       "      <td>193.61897</td>\n",
       "      <td>24</td>\n",
       "    </tr>\n",
       "  </tbody>\n",
       "</table>\n",
       "<p>334 rows × 17 columns</p>\n",
       "</div>"
      ],
      "text/plain": [
       "     Areas_of_Interest  IP_100000m  IP_10000m  IP_150000m  IP_200000m  \\\n",
       "0                    1    2.820883   1.816062    2.987117    2.957402   \n",
       "1                    0    2.804557   1.727324    2.977050    2.941502   \n",
       "2                    0    2.694229   1.689944    2.908677    2.768212   \n",
       "3                    0    2.754284   1.686444    2.959255    2.892921   \n",
       "4                    0    2.735122   1.748282    2.863593    2.700618   \n",
       "..                 ...         ...        ...         ...         ...   \n",
       "329                  0    3.116837   1.988076    2.940882    2.862363   \n",
       "330                  0    3.159340   2.689270    2.866878    2.767384   \n",
       "331                  1    3.285728   4.652879    3.340603    3.319970   \n",
       "332                  0    3.604119   3.760238    3.513945    3.417534   \n",
       "333                  0    3.239240   4.677991    3.321368    3.308086   \n",
       "\n",
       "     IP_20000m  IP_50000m  Log_Distance_To_Faults  \\\n",
       "0     1.764848   2.097355                8.562915   \n",
       "1     1.602638   1.983393                8.834721   \n",
       "2     1.659999   2.079083                7.753500   \n",
       "3     1.453064   1.571984                7.875227   \n",
       "4     1.788256   2.230790                8.319839   \n",
       "..         ...        ...                     ...   \n",
       "329   2.153999   3.174888                8.329572   \n",
       "330   3.041932   3.536589                9.613204   \n",
       "331   3.898999   3.571000                8.210844   \n",
       "332   4.020409   4.223606                7.805900   \n",
       "333   3.865748   3.416893                8.792702   \n",
       "\n",
       "     Log_Distance_to_Archaean_Contact  Log_TMI_Merged_Slope    SA_GRAV  \\\n",
       "0                            8.344032              1.923039  -4.934392   \n",
       "1                            8.834721              1.128845  -5.194043   \n",
       "2                           10.151846              0.268313  -1.303209   \n",
       "3                            8.661335             -0.235854  -5.091807   \n",
       "4                            9.452106              2.027054  -7.236649   \n",
       "..                                ...                   ...        ...   \n",
       "329                          8.381520              2.693192 -12.704970   \n",
       "330                          7.745506              0.558646 -13.346372   \n",
       "331                          7.003810              1.103104 -14.116680   \n",
       "332                          7.657473              2.708588 -22.919182   \n",
       "333                          6.806474              4.039874 -15.094396   \n",
       "\n",
       "     SA_GRAV_1VD  SA_TMI_RTP  SA_TMI_VRTP_1VD  SA_TMI_VRTP_PSDGRAV  \\\n",
       "0       0.005453   453.28296         0.143676           -39.836740   \n",
       "1       0.004025   498.98422         0.078441           -31.141480   \n",
       "2      -0.000570  -272.42166        -0.008299           -29.730923   \n",
       "3       0.005596   101.18466         0.016376           -31.054740   \n",
       "4       0.002715  -166.96223        -0.189150           -35.360264   \n",
       "..           ...         ...              ...                  ...   \n",
       "329     0.000340   378.96430         0.153007            62.621030   \n",
       "330     0.001905   194.91040         0.019076            68.996994   \n",
       "331     0.000169  -260.99580        -0.081170            22.559025   \n",
       "332    -0.000111  -149.89143        -0.198861            21.142788   \n",
       "333     0.000439   117.90577         1.828585            22.414600   \n",
       "\n",
       "     TMI_Merged  Zones  \n",
       "0    1086.61840      2  \n",
       "1     617.73390      2  \n",
       "2     266.01080      1  \n",
       "3     568.47980      2  \n",
       "4     236.68782      4  \n",
       "..          ...    ...  \n",
       "329   468.72240     25  \n",
       "330   211.59685     25  \n",
       "331  -107.31129     24  \n",
       "332   306.70895     24  \n",
       "333   193.61897     24  \n",
       "\n",
       "[334 rows x 17 columns]"
      ]
     },
     "execution_count": 3,
     "metadata": {},
     "output_type": "execute_result"
    }
   ],
   "source": [
    "df"
   ]
  },
  {
   "cell_type": "markdown",
   "metadata": {},
   "source": [
    "Here we can see our target variable 'Areas of Interest', our 15 features and another feature called 'Zones'. Under the assumption that all exploratory data analysis and preprocessing of data has been completed, let's move straight into how we will cross validate the train/test sets."
   ]
  },
  {
   "cell_type": "markdown",
   "metadata": {},
   "source": [
    "## Spatial Cross Validation"
   ]
  },
  {
   "cell_type": "markdown",
   "metadata": {},
   "source": [
    "In my previous notebook on [Machine Learning Regression on Exploration Soil Sampling Grids](https://medium.com/@jackmaughan_50251/machine-learning-regression-on-exploration-soil-sampling-grids-25d2e4b0565d) we looked at splitting training and testing data from separately spaced zones to overcome the effects of spatial autocorrelation, which causes overfitting in our models. In this notebook we'll look at doing something similar using Scikit-Learn's Group Shuffle Split (GSS). As the name suggests, this tool splits the dataset based upon a defined group variable. When creating the feature dataset I created a group feature named 'Zones'. The zones are pictured below."
   ]
  },
  {
   "attachments": {},
   "cell_type": "markdown",
   "metadata": {},
   "source": [
    "<img src=\"Images/Zones.png\" />"
   ]
  },
  {
   "cell_type": "markdown",
   "metadata": {},
   "source": [
    "The zone extents are derived from the 200k geology maps of South Australia found on the SARIG website and have been numbered with respect to the study region. Each area of known interest has been assigned the zone number for which it is located and will be split based upon that zone using GSS."
   ]
  },
  {
   "cell_type": "code",
   "execution_count": 4,
   "metadata": {},
   "outputs": [],
   "source": [
    "#Sorting data by Zones\n",
    "df = df.sort_values('Zones')\n",
    "\n",
    "#Splitting the features\n",
    "X = df.drop(['Areas_of_Interest', 'Zones'], axis=1)\n",
    "\n",
    "#Splitting the target feature\n",
    "Y = df['Areas_of_Interest']\n",
    "\n",
    "#Splitting the zones\n",
    "Z = df['Zones']"
   ]
  },
  {
   "cell_type": "markdown",
   "metadata": {},
   "source": [
    "An issue with splitting our train and test in this fashion is that each zone has a varying amount of samples, some even have none. This makes it impossible to keep a consistent train-test sample ratio across the cross validations (CV) sets. To visualise how many data points are in each zone we can plot a histogram of the zones."
   ]
  },
  {
   "cell_type": "code",
   "execution_count": 5,
   "metadata": {},
   "outputs": [
    {
     "data": {
      "image/svg+xml": [
       "<svg class=\"main-svg\" xmlns=\"http://www.w3.org/2000/svg\" xmlns:xlink=\"http://www.w3.org/1999/xlink\" width=\"700\" height=\"450\" style=\"\" viewBox=\"0 0 700 450\"><rect x=\"0\" y=\"0\" width=\"700\" height=\"450\" style=\"fill: rgb(255, 255, 255); fill-opacity: 1;\"/><defs id=\"defs-045406\"><g class=\"clips\"><clipPath id=\"clip045406xyplot\" class=\"plotclip\"><rect width=\"485\" height=\"310\"/></clipPath><clipPath class=\"axesclip\" id=\"clip045406x\"><rect x=\"80\" y=\"0\" width=\"485\" height=\"450\"/></clipPath><clipPath class=\"axesclip\" id=\"clip045406y\"><rect x=\"0\" y=\"60\" width=\"700\" height=\"310\"/></clipPath><clipPath class=\"axesclip\" id=\"clip045406xy\"><rect x=\"80\" y=\"60\" width=\"485\" height=\"310\"/></clipPath></g><g class=\"gradients\"/></defs><g class=\"bglayer\"><rect class=\"bg\" x=\"80\" y=\"60\" width=\"485\" height=\"310\" style=\"fill: rgb(229, 236, 246); fill-opacity: 1; stroke-width: 0;\"/></g><g class=\"layer-below\"><g class=\"imagelayer\"/><g class=\"shapelayer\"/></g><g class=\"cartesianlayer\"><g class=\"subplot xy\"><g class=\"layer-subplot\"><g class=\"shapelayer\"/><g class=\"imagelayer\"/></g><g class=\"gridlayer\"><g class=\"x\"/><g class=\"y\"><path class=\"ygrid crisp\" transform=\"translate(0,324.69)\" d=\"M80,0h485\" style=\"stroke: rgb(255, 255, 255); stroke-opacity: 1; stroke-width: 1px;\"/><path class=\"ygrid crisp\" transform=\"translate(0,279.38)\" d=\"M80,0h485\" style=\"stroke: rgb(255, 255, 255); stroke-opacity: 1; stroke-width: 1px;\"/><path class=\"ygrid crisp\" transform=\"translate(0,234.08)\" d=\"M80,0h485\" style=\"stroke: rgb(255, 255, 255); stroke-opacity: 1; stroke-width: 1px;\"/><path class=\"ygrid crisp\" transform=\"translate(0,188.77)\" d=\"M80,0h485\" style=\"stroke: rgb(255, 255, 255); stroke-opacity: 1; stroke-width: 1px;\"/><path class=\"ygrid crisp\" transform=\"translate(0,143.45999999999998)\" d=\"M80,0h485\" style=\"stroke: rgb(255, 255, 255); stroke-opacity: 1; stroke-width: 1px;\"/><path class=\"ygrid crisp\" transform=\"translate(0,98.15)\" d=\"M80,0h485\" style=\"stroke: rgb(255, 255, 255); stroke-opacity: 1; stroke-width: 1px;\"/></g></g><g class=\"zerolinelayer\"><path class=\"yzl zl crisp\" transform=\"translate(0,370)\" d=\"M80,0h485\" style=\"stroke: rgb(255, 255, 255); stroke-opacity: 1; stroke-width: 2px;\"/></g><path class=\"xlines-below\"/><path class=\"ylines-below\"/><g class=\"overlines-below\"/><g class=\"xaxislayer-below\"/><g class=\"yaxislayer-below\"/><g class=\"overaxes-below\"/><g class=\"plot\" transform=\"translate(80, 60)\" clip-path=\"url('#clip045406xyplot')\"><g class=\"barlayer mlayer\"><g class=\"trace bars\" shape-rendering=\"crispEdges\" style=\"opacity: 1;\"><g class=\"points\"><g class=\"point\"><path d=\"M0,310V307.73H19.4V310Z\" style=\"vector-effect: non-scaling-stroke; opacity: 1; stroke-width: 0px; fill: rgb(255, 0, 0); fill-opacity: 1;\"/></g><g class=\"point\"><path d=\"M19.4,310V305.47H38.8V310Z\" style=\"vector-effect: non-scaling-stroke; opacity: 1; stroke-width: 0px; fill: rgb(255, 0, 0); fill-opacity: 1;\"/></g><g class=\"point\"><path d=\"M38.8,310V310H58.2V310Z\" style=\"vector-effect: non-scaling-stroke; opacity: 1; stroke-width: 0px; fill: rgb(255, 0, 0); fill-opacity: 1;\"/></g><g class=\"point\"><path d=\"M58.2,310V296.41H77.6V310Z\" style=\"vector-effect: non-scaling-stroke; opacity: 1; stroke-width: 0px; fill: rgb(255, 0, 0); fill-opacity: 1;\"/></g><g class=\"point\"><path d=\"M77.6,310V303.2H97V310Z\" style=\"vector-effect: non-scaling-stroke; opacity: 1; stroke-width: 0px; fill: rgb(255, 0, 0); fill-opacity: 1;\"/></g><g class=\"point\"><path d=\"M97,310V310H116.4V310Z\" style=\"vector-effect: non-scaling-stroke; opacity: 1; stroke-width: 0px; fill: rgb(255, 0, 0); fill-opacity: 1;\"/></g><g class=\"point\"><path d=\"M116.4,310V310H135.8V310Z\" style=\"vector-effect: non-scaling-stroke; opacity: 1; stroke-width: 0px; fill: rgb(255, 0, 0); fill-opacity: 1;\"/></g><g class=\"point\"><path d=\"M135.8,310V307.73H155.2V310Z\" style=\"vector-effect: non-scaling-stroke; opacity: 1; stroke-width: 0px; fill: rgb(255, 0, 0); fill-opacity: 1;\"/></g><g class=\"point\"><path d=\"M155.2,310V300.94H174.6V310Z\" style=\"vector-effect: non-scaling-stroke; opacity: 1; stroke-width: 0px; fill: rgb(255, 0, 0); fill-opacity: 1;\"/></g><g class=\"point\"><path d=\"M174.6,310V205.79H194V310Z\" style=\"vector-effect: non-scaling-stroke; opacity: 1; stroke-width: 0px; fill: rgb(255, 0, 0); fill-opacity: 1;\"/></g><g class=\"point\"><path d=\"M194,310V305.47H213.4V310Z\" style=\"vector-effect: non-scaling-stroke; opacity: 1; stroke-width: 0px; fill: rgb(255, 0, 0); fill-opacity: 1;\"/></g><g class=\"point\"><path d=\"M213.4,310V303.2H232.8V310Z\" style=\"vector-effect: non-scaling-stroke; opacity: 1; stroke-width: 0px; fill: rgb(255, 0, 0); fill-opacity: 1;\"/></g><g class=\"point\"><path d=\"M232.8,310V310H252.2V310Z\" style=\"vector-effect: non-scaling-stroke; opacity: 1; stroke-width: 0px; fill: rgb(255, 0, 0); fill-opacity: 1;\"/></g><g class=\"point\"><path d=\"M252.2,310V303.2H271.6V310Z\" style=\"vector-effect: non-scaling-stroke; opacity: 1; stroke-width: 0px; fill: rgb(255, 0, 0); fill-opacity: 1;\"/></g><g class=\"point\"><path d=\"M271.6,310V294.14H291V310Z\" style=\"vector-effect: non-scaling-stroke; opacity: 1; stroke-width: 0px; fill: rgb(255, 0, 0); fill-opacity: 1;\"/></g><g class=\"point\"><path d=\"M291,310V210.32H310.4V310Z\" style=\"vector-effect: non-scaling-stroke; opacity: 1; stroke-width: 0px; fill: rgb(255, 0, 0); fill-opacity: 1;\"/></g><g class=\"point\"><path d=\"M310.4,310V310H329.8V310Z\" style=\"vector-effect: non-scaling-stroke; opacity: 1; stroke-width: 0px; fill: rgb(255, 0, 0); fill-opacity: 1;\"/></g><g class=\"point\"><path d=\"M329.8,310V310H349.2V310Z\" style=\"vector-effect: non-scaling-stroke; opacity: 1; stroke-width: 0px; fill: rgb(255, 0, 0); fill-opacity: 1;\"/></g><g class=\"point\"><path d=\"M349.2,310V310H368.6V310Z\" style=\"vector-effect: non-scaling-stroke; opacity: 1; stroke-width: 0px; fill: rgb(255, 0, 0); fill-opacity: 1;\"/></g><g class=\"point\"><path d=\"M368.6,310V303.2H388V310Z\" style=\"vector-effect: non-scaling-stroke; opacity: 1; stroke-width: 0px; fill: rgb(255, 0, 0); fill-opacity: 1;\"/></g><g class=\"point\"><path d=\"M388,310V230.71H407.4V310Z\" style=\"vector-effect: non-scaling-stroke; opacity: 1; stroke-width: 0px; fill: rgb(255, 0, 0); fill-opacity: 1;\"/></g><g class=\"point\"><path d=\"M407.4,310V310H426.8V310Z\" style=\"vector-effect: non-scaling-stroke; opacity: 1; stroke-width: 0px; fill: rgb(255, 0, 0); fill-opacity: 1;\"/></g><g class=\"point\"><path d=\"M426.8,310V310H446.2V310Z\" style=\"vector-effect: non-scaling-stroke; opacity: 1; stroke-width: 0px; fill: rgb(255, 0, 0); fill-opacity: 1;\"/></g><g class=\"point\"><path d=\"M446.2,310V305.47H465.6V310Z\" style=\"vector-effect: non-scaling-stroke; opacity: 1; stroke-width: 0px; fill: rgb(255, 0, 0); fill-opacity: 1;\"/></g><g class=\"point\"><path d=\"M465.6,310V300.94H485V310Z\" style=\"vector-effect: non-scaling-stroke; opacity: 1; stroke-width: 0px; fill: rgb(255, 0, 0); fill-opacity: 1;\"/></g></g></g><g class=\"trace bars\" shape-rendering=\"crispEdges\" style=\"opacity: 1;\"><g class=\"points\"><g class=\"point\"><path d=\"M19.4,305.47V303.2H38.8V305.47Z\" style=\"vector-effect: non-scaling-stroke; opacity: 1; stroke-width: 0px; fill: rgb(0, 250, 154); fill-opacity: 1;\"/></g><g class=\"point\"><path d=\"M38.8,310V310H58.2V310Z\" style=\"vector-effect: non-scaling-stroke; opacity: 1; stroke-width: 0px; fill: rgb(0, 250, 154); fill-opacity: 1;\"/></g><g class=\"point\"><path d=\"M58.2,296.41V296.41H77.6V296.41Z\" style=\"vector-effect: non-scaling-stroke; opacity: 1; stroke-width: 0px; fill: rgb(0, 250, 154); fill-opacity: 1;\"/></g><g class=\"point\"><path d=\"M77.6,303.2V303.2H97V303.2Z\" style=\"vector-effect: non-scaling-stroke; opacity: 1; stroke-width: 0px; fill: rgb(0, 250, 154); fill-opacity: 1;\"/></g><g class=\"point\"><path d=\"M97,310V310H116.4V310Z\" style=\"vector-effect: non-scaling-stroke; opacity: 1; stroke-width: 0px; fill: rgb(0, 250, 154); fill-opacity: 1;\"/></g><g class=\"point\"><path d=\"M116.4,310V310H135.8V310Z\" style=\"vector-effect: non-scaling-stroke; opacity: 1; stroke-width: 0px; fill: rgb(0, 250, 154); fill-opacity: 1;\"/></g><g class=\"point\"><path d=\"M135.8,307.73V307.73H155.2V307.73Z\" style=\"vector-effect: non-scaling-stroke; opacity: 1; stroke-width: 0px; fill: rgb(0, 250, 154); fill-opacity: 1;\"/></g><g class=\"point\"><path d=\"M155.2,300.94V271.49H174.6V300.94Z\" style=\"vector-effect: non-scaling-stroke; opacity: 1; stroke-width: 0px; fill: rgb(0, 250, 154); fill-opacity: 1;\"/></g><g class=\"point\"><path d=\"M174.6,205.79V15.5H194V205.79Z\" style=\"vector-effect: non-scaling-stroke; opacity: 1; stroke-width: 0px; fill: rgb(0, 250, 154); fill-opacity: 1;\"/></g><g class=\"point\"><path d=\"M194,305.47V305.47H213.4V305.47Z\" style=\"vector-effect: non-scaling-stroke; opacity: 1; stroke-width: 0px; fill: rgb(0, 250, 154); fill-opacity: 1;\"/></g><g class=\"point\"><path d=\"M213.4,303.2V303.2H232.8V303.2Z\" style=\"vector-effect: non-scaling-stroke; opacity: 1; stroke-width: 0px; fill: rgb(0, 250, 154); fill-opacity: 1;\"/></g><g class=\"point\"><path d=\"M232.8,310V310H252.2V310Z\" style=\"vector-effect: non-scaling-stroke; opacity: 1; stroke-width: 0px; fill: rgb(0, 250, 154); fill-opacity: 1;\"/></g><g class=\"point\"><path d=\"M252.2,303.2V289.61H271.6V303.2Z\" style=\"vector-effect: non-scaling-stroke; opacity: 1; stroke-width: 0px; fill: rgb(0, 250, 154); fill-opacity: 1;\"/></g><g class=\"point\"><path d=\"M271.6,294.14V294.14H291V294.14Z\" style=\"vector-effect: non-scaling-stroke; opacity: 1; stroke-width: 0px; fill: rgb(0, 250, 154); fill-opacity: 1;\"/></g><g class=\"point\"><path d=\"M291,210.32V110.65H310.4V210.32Z\" style=\"vector-effect: non-scaling-stroke; opacity: 1; stroke-width: 0px; fill: rgb(0, 250, 154); fill-opacity: 1;\"/></g><g class=\"point\"><path d=\"M310.4,310V310H329.8V310Z\" style=\"vector-effect: non-scaling-stroke; opacity: 1; stroke-width: 0px; fill: rgb(0, 250, 154); fill-opacity: 1;\"/></g><g class=\"point\"><path d=\"M329.8,310V310H349.2V310Z\" style=\"vector-effect: non-scaling-stroke; opacity: 1; stroke-width: 0px; fill: rgb(0, 250, 154); fill-opacity: 1;\"/></g><g class=\"point\"><path d=\"M349.2,310V305.47H368.6V310Z\" style=\"vector-effect: non-scaling-stroke; opacity: 1; stroke-width: 0px; fill: rgb(0, 250, 154); fill-opacity: 1;\"/></g><g class=\"point\"><path d=\"M368.6,303.2V303.2H388V303.2Z\" style=\"vector-effect: non-scaling-stroke; opacity: 1; stroke-width: 0px; fill: rgb(0, 250, 154); fill-opacity: 1;\"/></g><g class=\"point\"><path d=\"M388,230.71V192.2H407.4V230.71Z\" style=\"vector-effect: non-scaling-stroke; opacity: 1; stroke-width: 0px; fill: rgb(0, 250, 154); fill-opacity: 1;\"/></g><g class=\"point\"><path d=\"M407.4,310V310H426.8V310Z\" style=\"vector-effect: non-scaling-stroke; opacity: 1; stroke-width: 0px; fill: rgb(0, 250, 154); fill-opacity: 1;\"/></g><g class=\"point\"><path d=\"M426.8,310V310H446.2V310Z\" style=\"vector-effect: non-scaling-stroke; opacity: 1; stroke-width: 0px; fill: rgb(0, 250, 154); fill-opacity: 1;\"/></g><g class=\"point\"><path d=\"M446.2,305.47V303.2H465.6V305.47Z\" style=\"vector-effect: non-scaling-stroke; opacity: 1; stroke-width: 0px; fill: rgb(0, 250, 154); fill-opacity: 1;\"/></g></g></g></g></g><g class=\"overplot\"/><path class=\"xlines-above crisp\" style=\"fill: none;\" d=\"M0,0\"/><path class=\"ylines-above crisp\" style=\"fill: none;\" d=\"M0,0\"/><g class=\"overlines-above\"/><g class=\"xaxislayer-above\"><g class=\"xtick\"><text text-anchor=\"middle\" x=\"0\" y=\"383\" transform=\"translate(89.7,0)\" style=\"font-family: 'Open Sans', verdana, arial, sans-serif; font-size: 12px; fill: rgb(42, 63, 95); fill-opacity: 1; white-space: pre;\">1</text></g><g class=\"xtick\"><text text-anchor=\"middle\" x=\"0\" y=\"383\" transform=\"translate(109.1,0)\" style=\"font-family: 'Open Sans', verdana, arial, sans-serif; font-size: 12px; fill: rgb(42, 63, 95); fill-opacity: 1; white-space: pre;\">2</text></g><g class=\"xtick\"><text text-anchor=\"middle\" x=\"0\" y=\"383\" transform=\"translate(128.5,0)\" style=\"font-family: 'Open Sans', verdana, arial, sans-serif; font-size: 12px; fill: rgb(42, 63, 95); fill-opacity: 1; white-space: pre;\">3</text></g><g class=\"xtick\"><text text-anchor=\"middle\" x=\"0\" y=\"383\" transform=\"translate(147.9,0)\" style=\"font-family: 'Open Sans', verdana, arial, sans-serif; font-size: 12px; fill: rgb(42, 63, 95); fill-opacity: 1; white-space: pre;\">4</text></g><g class=\"xtick\"><text text-anchor=\"middle\" x=\"0\" y=\"383\" transform=\"translate(167.3,0)\" style=\"font-family: 'Open Sans', verdana, arial, sans-serif; font-size: 12px; fill: rgb(42, 63, 95); fill-opacity: 1; white-space: pre;\">5</text></g><g class=\"xtick\"><text text-anchor=\"middle\" x=\"0\" y=\"383\" transform=\"translate(186.7,0)\" style=\"font-family: 'Open Sans', verdana, arial, sans-serif; font-size: 12px; fill: rgb(42, 63, 95); fill-opacity: 1; white-space: pre;\">6</text></g><g class=\"xtick\"><text text-anchor=\"middle\" x=\"0\" y=\"383\" transform=\"translate(206.1,0)\" style=\"font-family: 'Open Sans', verdana, arial, sans-serif; font-size: 12px; fill: rgb(42, 63, 95); fill-opacity: 1; white-space: pre;\">7</text></g><g class=\"xtick\"><text text-anchor=\"middle\" x=\"0\" y=\"383\" transform=\"translate(225.5,0)\" style=\"font-family: 'Open Sans', verdana, arial, sans-serif; font-size: 12px; fill: rgb(42, 63, 95); fill-opacity: 1; white-space: pre;\">8</text></g><g class=\"xtick\"><text text-anchor=\"middle\" x=\"0\" y=\"383\" transform=\"translate(244.9,0)\" style=\"font-family: 'Open Sans', verdana, arial, sans-serif; font-size: 12px; fill: rgb(42, 63, 95); fill-opacity: 1; white-space: pre;\">9</text></g><g class=\"xtick\"><text text-anchor=\"middle\" x=\"0\" y=\"383\" transform=\"translate(264.3,0)\" style=\"font-family: 'Open Sans', verdana, arial, sans-serif; font-size: 12px; fill: rgb(42, 63, 95); fill-opacity: 1; white-space: pre;\">10</text></g><g class=\"xtick\"><text text-anchor=\"middle\" x=\"0\" y=\"383\" transform=\"translate(283.7,0)\" style=\"font-family: 'Open Sans', verdana, arial, sans-serif; font-size: 12px; fill: rgb(42, 63, 95); fill-opacity: 1; white-space: pre;\">11</text></g><g class=\"xtick\"><text text-anchor=\"middle\" x=\"0\" y=\"383\" transform=\"translate(303.1,0)\" style=\"font-family: 'Open Sans', verdana, arial, sans-serif; font-size: 12px; fill: rgb(42, 63, 95); fill-opacity: 1; white-space: pre;\">12</text></g><g class=\"xtick\"><text text-anchor=\"middle\" x=\"0\" y=\"383\" transform=\"translate(322.5,0)\" style=\"font-family: 'Open Sans', verdana, arial, sans-serif; font-size: 12px; fill: rgb(42, 63, 95); fill-opacity: 1; white-space: pre;\">13</text></g><g class=\"xtick\"><text text-anchor=\"middle\" x=\"0\" y=\"383\" transform=\"translate(341.9,0)\" style=\"font-family: 'Open Sans', verdana, arial, sans-serif; font-size: 12px; fill: rgb(42, 63, 95); fill-opacity: 1; white-space: pre;\">14</text></g><g class=\"xtick\"><text text-anchor=\"middle\" x=\"0\" y=\"383\" transform=\"translate(361.3,0)\" style=\"font-family: 'Open Sans', verdana, arial, sans-serif; font-size: 12px; fill: rgb(42, 63, 95); fill-opacity: 1; white-space: pre;\">15</text></g><g class=\"xtick\"><text text-anchor=\"middle\" x=\"0\" y=\"383\" transform=\"translate(380.7,0)\" style=\"font-family: 'Open Sans', verdana, arial, sans-serif; font-size: 12px; fill: rgb(42, 63, 95); fill-opacity: 1; white-space: pre;\">16</text></g><g class=\"xtick\"><text text-anchor=\"middle\" x=\"0\" y=\"383\" transform=\"translate(400.1,0)\" style=\"font-family: 'Open Sans', verdana, arial, sans-serif; font-size: 12px; fill: rgb(42, 63, 95); fill-opacity: 1; white-space: pre;\">17</text></g><g class=\"xtick\"><text text-anchor=\"middle\" x=\"0\" y=\"383\" transform=\"translate(419.5,0)\" style=\"font-family: 'Open Sans', verdana, arial, sans-serif; font-size: 12px; fill: rgb(42, 63, 95); fill-opacity: 1; white-space: pre;\">18</text></g><g class=\"xtick\"><text text-anchor=\"middle\" x=\"0\" y=\"383\" transform=\"translate(438.9,0)\" style=\"font-family: 'Open Sans', verdana, arial, sans-serif; font-size: 12px; fill: rgb(42, 63, 95); fill-opacity: 1; white-space: pre;\">19</text></g><g class=\"xtick\"><text text-anchor=\"middle\" x=\"0\" y=\"383\" transform=\"translate(458.3,0)\" style=\"font-family: 'Open Sans', verdana, arial, sans-serif; font-size: 12px; fill: rgb(42, 63, 95); fill-opacity: 1; white-space: pre;\">20</text></g><g class=\"xtick\"><text text-anchor=\"middle\" x=\"0\" y=\"383\" transform=\"translate(477.7,0)\" style=\"font-family: 'Open Sans', verdana, arial, sans-serif; font-size: 12px; fill: rgb(42, 63, 95); fill-opacity: 1; white-space: pre;\">21</text></g><g class=\"xtick\"><text text-anchor=\"middle\" x=\"0\" y=\"383\" transform=\"translate(497.1,0)\" style=\"font-family: 'Open Sans', verdana, arial, sans-serif; font-size: 12px; fill: rgb(42, 63, 95); fill-opacity: 1; white-space: pre;\">22</text></g><g class=\"xtick\"><text text-anchor=\"middle\" x=\"0\" y=\"383\" transform=\"translate(516.5,0)\" style=\"font-family: 'Open Sans', verdana, arial, sans-serif; font-size: 12px; fill: rgb(42, 63, 95); fill-opacity: 1; white-space: pre;\">23</text></g><g class=\"xtick\"><text text-anchor=\"middle\" x=\"0\" y=\"383\" transform=\"translate(535.9,0)\" style=\"font-family: 'Open Sans', verdana, arial, sans-serif; font-size: 12px; fill: rgb(42, 63, 95); fill-opacity: 1; white-space: pre;\">24</text></g><g class=\"xtick\"><text text-anchor=\"middle\" x=\"0\" y=\"383\" transform=\"translate(555.3,0)\" style=\"font-family: 'Open Sans', verdana, arial, sans-serif; font-size: 12px; fill: rgb(42, 63, 95); fill-opacity: 1; white-space: pre;\">25</text></g></g><g class=\"yaxislayer-above\"><g class=\"ytick\"><text text-anchor=\"end\" x=\"79\" y=\"4.199999999999999\" transform=\"translate(0,370)\" style=\"font-family: 'Open Sans', verdana, arial, sans-serif; font-size: 12px; fill: rgb(42, 63, 95); fill-opacity: 1; white-space: pre;\">0</text></g><g class=\"ytick\"><text text-anchor=\"end\" x=\"79\" y=\"4.199999999999999\" transform=\"translate(0,324.69)\" style=\"font-family: 'Open Sans', verdana, arial, sans-serif; font-size: 12px; fill: rgb(42, 63, 95); fill-opacity: 1; white-space: pre;\">20</text></g><g class=\"ytick\"><text text-anchor=\"end\" x=\"79\" y=\"4.199999999999999\" transform=\"translate(0,279.38)\" style=\"font-family: 'Open Sans', verdana, arial, sans-serif; font-size: 12px; fill: rgb(42, 63, 95); fill-opacity: 1; white-space: pre;\">40</text></g><g class=\"ytick\"><text text-anchor=\"end\" x=\"79\" y=\"4.199999999999999\" transform=\"translate(0,234.08)\" style=\"font-family: 'Open Sans', verdana, arial, sans-serif; font-size: 12px; fill: rgb(42, 63, 95); fill-opacity: 1; white-space: pre;\">60</text></g><g class=\"ytick\"><text text-anchor=\"end\" x=\"79\" y=\"4.199999999999999\" transform=\"translate(0,188.77)\" style=\"font-family: 'Open Sans', verdana, arial, sans-serif; font-size: 12px; fill: rgb(42, 63, 95); fill-opacity: 1; white-space: pre;\">80</text></g><g class=\"ytick\"><text text-anchor=\"end\" x=\"79\" y=\"4.199999999999999\" transform=\"translate(0,143.45999999999998)\" style=\"font-family: 'Open Sans', verdana, arial, sans-serif; font-size: 12px; fill: rgb(42, 63, 95); fill-opacity: 1; white-space: pre;\">100</text></g><g class=\"ytick\"><text text-anchor=\"end\" x=\"79\" y=\"4.199999999999999\" transform=\"translate(0,98.15)\" style=\"font-family: 'Open Sans', verdana, arial, sans-serif; font-size: 12px; fill: rgb(42, 63, 95); fill-opacity: 1; white-space: pre;\">120</text></g></g><g class=\"overaxes-above\"/></g></g><g class=\"polarlayer\"/><g class=\"ternarylayer\"/><g class=\"geolayer\"/><g class=\"funnelarealayer\"/><g class=\"pielayer\"/><g class=\"treemaplayer\"/><g class=\"sunburstlayer\"/><g class=\"glimages\"/><defs id=\"topdefs-045406\"><g class=\"clips\"/><clipPath id=\"legend045406\"><rect width=\"113\" height=\"64\" x=\"0\" y=\"0\"/></clipPath></defs><g class=\"layer-above\"><g class=\"imagelayer\"/><g class=\"shapelayer\"/></g><g class=\"infolayer\"><g class=\"legend\" pointer-events=\"all\" transform=\"translate(574.7, 60)\"><rect class=\"bg\" shape-rendering=\"crispEdges\" style=\"stroke: rgb(68, 68, 68); stroke-opacity: 1; fill: rgb(255, 255, 255); fill-opacity: 1; stroke-width: 0px;\" width=\"113\" height=\"64\" x=\"0\" y=\"0\"/><g class=\"scrollbox\" transform=\"translate(0, 0)\" clip-path=\"url('#legend045406')\"><text class=\"legendtitletext user-select-none\" text-anchor=\"start\" x=\"2\" y=\"15.600000000000001\" style=\"font-family: 'Open Sans', verdana, arial, sans-serif; font-size: 12px; fill: rgb(42, 63, 95); fill-opacity: 1; white-space: pre;\">Areas_of_Interest</text><g class=\"groups\" transform=\"translate(0, 0)\"><g class=\"traces\" transform=\"translate(0, 30.1)\" style=\"opacity: 1;\"><text class=\"legendtext user-select-none\" text-anchor=\"start\" x=\"40\" y=\"4.680000000000001\" style=\"font-family: 'Open Sans', verdana, arial, sans-serif; font-size: 12px; fill: rgb(42, 63, 95); fill-opacity: 1; white-space: pre;\">0</text><g class=\"layers\" style=\"opacity: 1;\"><g class=\"legendfill\"/><g class=\"legendlines\"/><g class=\"legendsymbols\"><g class=\"legendpoints\"><path class=\"legendundefined\" d=\"M6,6H-6V-6H6Z\" transform=\"translate(20,0)\" style=\"stroke-width: 0px; fill: rgb(255, 0, 0); fill-opacity: 1;\"/></g></g></g><rect class=\"legendtoggle\" pointer-events=\"all\" x=\"0\" y=\"-9.5\" width=\"47.640625\" height=\"19\" style=\"cursor: pointer; fill: rgb(0, 0, 0); fill-opacity: 0;\"/></g></g><g class=\"groups\" transform=\"translate(0, 0)\"><g class=\"traces\" transform=\"translate(0, 49.1)\" style=\"opacity: 1;\"><text class=\"legendtext user-select-none\" text-anchor=\"start\" x=\"40\" y=\"4.680000000000001\" style=\"font-family: 'Open Sans', verdana, arial, sans-serif; font-size: 12px; fill: rgb(42, 63, 95); fill-opacity: 1; white-space: pre;\">1</text><g class=\"layers\" style=\"opacity: 1;\"><g class=\"legendfill\"/><g class=\"legendlines\"/><g class=\"legendsymbols\"><g class=\"legendpoints\"><path class=\"legendundefined\" d=\"M6,6H-6V-6H6Z\" transform=\"translate(20,0)\" style=\"stroke-width: 0px; fill: rgb(0, 250, 154); fill-opacity: 1;\"/></g></g></g><rect class=\"legendtoggle\" pointer-events=\"all\" x=\"0\" y=\"-9.5\" width=\"47.640625\" height=\"19\" style=\"cursor: pointer; fill: rgb(0, 0, 0); fill-opacity: 0;\"/></g></g></g><rect class=\"scrollbar\" rx=\"20\" ry=\"3\" width=\"0\" height=\"0\" style=\"fill: rgb(128, 139, 164); fill-opacity: 1;\" x=\"0\" y=\"0\"/></g><g class=\"g-gtitle\"><text class=\"gtitle\" x=\"35\" y=\"30\" text-anchor=\"start\" dy=\"0em\" style=\"font-family: 'Open Sans', verdana, arial, sans-serif; font-size: 17px; fill: rgb(42, 63, 95); opacity: 1; font-weight: normal; white-space: pre;\">Histogram of Zone Data</text></g><g class=\"g-xtitle\"><text class=\"xtitle\" x=\"322.5\" y=\"410.3\" text-anchor=\"middle\" style=\"font-family: 'Open Sans', verdana, arial, sans-serif; font-size: 14px; fill: rgb(42, 63, 95); opacity: 1; font-weight: normal; white-space: pre;\">Spatial Zones</text></g><g class=\"g-ytitle\"><text class=\"ytitle\" transform=\"rotate(-90,31.309375000000003,215)\" x=\"31.309375000000003\" y=\"215\" text-anchor=\"middle\" style=\"font-family: 'Open Sans', verdana, arial, sans-serif; font-size: 14px; fill: rgb(42, 63, 95); opacity: 1; font-weight: normal; white-space: pre;\">Counts</text></g></g></svg>"
      ]
     },
     "metadata": {},
     "output_type": "display_data"
    }
   ],
   "source": [
    "#Setting histogram\n",
    "fig = px.histogram(df, x=\"Zones\", color=\"Areas_of_Interest\", hover_data=df.columns,\n",
    "                   color_discrete_sequence=['red', 'mediumspringgreen'])\n",
    "\n",
    "#Updating layout \n",
    "fig.update_layout(xaxis = dict(title='Spatial Zones', tickmode = 'linear', tick0 = 1, dtick = 1), \n",
    "                  yaxis = dict(title='Counts'),\n",
    "                  title = \"Histogram of Zone Data\",\n",
    "                  barmode='stack')\n",
    "\n",
    "fig.show('svg')"
   ]
  },
  {
   "cell_type": "markdown",
   "metadata": {},
   "source": [
    "As we can see, some zones have a significantly higher amount of data points within them, some have only barren data points or mineralised data points and others have no data at all. In the next step we will use GSS to split our data into 6 different cross validation sets, and attempt to keep our train - test ratio as close to 70% - 30% as possible."
   ]
  },
  {
   "cell_type": "code",
   "execution_count": 6,
   "metadata": {},
   "outputs": [],
   "source": [
    "#Splitting our data by zone for cross validation\n",
    "gss = GroupShuffleSplit(n_splits=6, train_size=0.7, random_state=4)"
   ]
  },
  {
   "cell_type": "markdown",
   "metadata": {},
   "source": [
    "Next we'll create a figure that shows how each of those 6 CV sets split the data in accordance to the zones. This can show us approximately how many data points are going into each of the train/test sets."
   ]
  },
  {
   "cell_type": "code",
   "execution_count": 7,
   "metadata": {},
   "outputs": [
    {
     "data": {
      "image/png": "[encoded data removed]",
      "text/plain": [
       "<Figure size 1332x864 with 1 Axes>"
      ]
     },
     "metadata": {
      "needs_background": "light"
     },
     "output_type": "display_data"
    }
   ],
   "source": [
    "#Updating figure settings\n",
    "plt.rcParams.update({'font.size': 22})\n",
    "fig, ax = plt.subplots()\n",
    "\n",
    "# Generate the training/testing visualizations for each CV split\n",
    "for i, (train, test) in enumerate(gss.split(X=X, y=Y, groups=Z)):\n",
    "    \n",
    "    # Fill in indices with the training/test groups\n",
    "    indices = np.array([np.nan] * len(X))\n",
    "    indices[test] = 1\n",
    "    indices[train] = 0\n",
    "\n",
    "    # Visualize the results\n",
    "    ax.scatter(range(len(indices)), [i + .5] * len(indices),\n",
    "                   c=indices, marker='_', lw=70, cmap='cool',\n",
    "                   vmin=-.2, vmax=1.2)\n",
    "\n",
    "# Plot the data classes and groups at the end\n",
    "ax.scatter(range(len(X)), [i + 1.5] * len(X),\n",
    "               c=Y, marker='_', lw=70, cmap='prism')\n",
    "ax.scatter(range(len(X)), [i + 2.5] * len(X),\n",
    "               c=Z, marker='_', lw=70, cmap='tab20')\n",
    "\n",
    "#Update formatting\n",
    "n_splits=6\n",
    "yticklabels = list(range(1, n_splits+1)) + ['Areas of\\nInterest', 'Zones']\n",
    "ax.set(yticks=np.arange(n_splits+2) + 0.5, yticklabels=yticklabels,\n",
    "           xlabel='Sample index', ylabel=\"CV iteration\",\n",
    "           ylim=[n_splits+2.2, -.2], xlim=[0, len(Y)])\n",
    "ax.set_title('{}'.format(type(gss).__name__), fontsize=20)\n",
    "ax.legend([Patch(color=plt.cm.cool(.8)), Patch(color=plt.cm.cool(.2))],\n",
    "          ['Testing set', 'Training set'], loc=(1.02, .8))\n",
    "fig.set_size_inches(18.5, 12)\n"
   ]
  },
  {
   "cell_type": "markdown",
   "metadata": {},
   "source": [
    "In other cross validation settings it would make sense to take the average of each CV metric and use that to define model robustness. As we are dealing with spatially different train/test sets with large variation in data size it's important to look further into how each CV set performs independently. We can see what zones were assigned to be either train or test data in the following cell. "
   ]
  },
  {
   "cell_type": "code",
   "execution_count": 8,
   "metadata": {},
   "outputs": [
    {
     "name": "stdout",
     "output_type": "stream",
     "text": [
      "CV: 1 is training zones [ 2  4  9 10 11 12 16 19 21 24 25] and testing on zones [ 1  5  8 14 15 20]\n",
      "CV: 2 is training zones [ 1  2  5  8  9 10 11 14 15 21 25] and testing on zones [ 4 12 16 19 20 24]\n",
      "CV: 3 is training zones [ 1  2  4  5 10 11 12 15 16 24 25] and testing on zones [ 8  9 14 19 20 21]\n",
      "CV: 4 is training zones [ 1  2  4  8 14 16 19 20 21 24 25] and testing on zones [ 5  9 10 11 12 15]\n",
      "CV: 5 is training zones [ 1  4  5  9 10 11 14 15 19 20 24] and testing on zones [ 2  8 12 16 21 25]\n",
      "CV: 6 is training zones [ 1  5  8  9 10 11 12 15 16 19 20] and testing on zones [ 2  4 14 21 24 25]\n"
     ]
    }
   ],
   "source": [
    "#Looping over each CV set to see what zones are included in the train/test data\n",
    "for i, (train, test) in enumerate(gss.split(X, Y, Z)):\n",
    "    print ('CV: '+str(i+1)+' is training zones '+str(Z.iloc[train].unique())+\n",
    "           ' and testing on zones '+str(Z.iloc[test].unique()))"
   ]
  },
  {
   "cell_type": "markdown",
   "metadata": {},
   "source": [
    "Now that we have the data ready we can look at constructing a pipeline."
   ]
  },
  {
   "cell_type": "markdown",
   "metadata": {},
   "source": [
    "## Pipeline"
   ]
  },
  {
   "cell_type": "markdown",
   "metadata": {},
   "source": [
    "A pipeline is a tool that creates a single object from multiple processing steps. Each individual step in a pipeline is applied to the data in the specific order that it was set. We'll construct a simple pipeline in this example, which applies a scalar to the data and then fits a machine learning model to it (more examples on pipelines can be found [here](http://queirozf.com/entries/scikit-learn-pipeline-examples)). Let's set up our pipeline with Scikit-Learns Min Max Scalar and Support Vector Machine Classifier."
   ]
  },
  {
   "cell_type": "code",
   "execution_count": 9,
   "metadata": {},
   "outputs": [],
   "source": [
    "#Setting scalar\n",
    "scalar = MinMaxScaler()\n",
    "\n",
    "#Setting machine learning model\n",
    "model = SVC(C=10, gamma=1, kernel='rbf', probability=True)"
   ]
  },
  {
   "cell_type": "code",
   "execution_count": 10,
   "metadata": {},
   "outputs": [],
   "source": [
    "#Constructing a pipeline\n",
    "pipeline = Pipeline([('transformer', scalar), ('estimator', model)])"
   ]
  },
  {
   "cell_type": "markdown",
   "metadata": {},
   "source": [
    "Our pipeline is now set and ready to be fitted to some data."
   ]
  },
  {
   "attachments": {},
   "cell_type": "markdown",
   "metadata": {},
   "source": [
    "<img src=\"Images/pipes.png\" />"
   ]
  },
  {
   "cell_type": "markdown",
   "metadata": {},
   "source": [
    "Besides making workflows easily reproducible and consistent, using a pipeline also reduces data leakage between training and test sets. This is because the pipeline fits the scalar to the data in the training set first and then transforms the testing set data. If we scaled the entire feature set before splitting into train and test sets, the training data would be exposed to information contained in the test set (like altered statistical data such as the mean and standard deviation). More on data leakage can be found [here](https://machinelearningmastery.com/data-leakage-machine-learning/). Let's evaluate some models."
   ]
  },
  {
   "cell_type": "markdown",
   "metadata": {},
   "source": [
    "## Evaluation Metrics"
   ]
  },
  {
   "cell_type": "markdown",
   "metadata": {},
   "source": [
    "When we create a machine learning classification model we want to know how well the it performs, aka how well it predicts classes correctly. In our case we want to know how well our support vector machine classifier predicts barren and mineralised areas given the data we've provided. Here we will look at some of the most common ways to evaluate model performance."
   ]
  },
  {
   "cell_type": "markdown",
   "metadata": {},
   "source": [
    "### Accuracy"
   ]
  },
  {
   "cell_type": "markdown",
   "metadata": {},
   "source": [
    "Accuracy (or Classification Accuracy) is the go to metric for testing how well a model performs. We can calculate the accuracy like this;"
   ]
  },
  {
   "cell_type": "code",
   "execution_count": 11,
   "metadata": {},
   "outputs": [
    {
     "name": "stdout",
     "output_type": "stream",
     "text": [
      "Accuracy CV 1: 70.8%\n",
      "Accuracy CV 2: 72.4%\n",
      "Accuracy CV 3: 53.6%\n",
      "Accuracy CV 4: 48.1%\n",
      "Accuracy CV 5: 70.9%\n",
      "Accuracy CV 6: 53.2%\n"
     ]
    }
   ],
   "source": [
    "#Looping over each CV split\n",
    "for i, (train, test) in enumerate(gss.split(X, Y, Z)):\n",
    "    \n",
    "    #Fitting the model to the training data\n",
    "    pipeline.fit(X.iloc[train].values, Y.iloc[train].values)\n",
    "    \n",
    "    #Using this model to predict on the test data\n",
    "    Y_pred = pipeline.predict(X.iloc[test].values)\n",
    "    \n",
    "    #Accessing and printing the accuracy of each train/test set\n",
    "    acc = accuracy_score(Y.iloc[test], Y_pred)\n",
    "    print('Accuracy CV '+str(i+1)+': '+\"%.1f\"% (acc*100)+'%')"
   ]
  },
  {
   "cell_type": "markdown",
   "metadata": {},
   "source": [
    "The results show that there is quite a variance in the accuracy over our different CV splits. This could be due to things like spatial differences in the data or the varying train/test split size, but for the sake of this notebook we won't worry about it. \n",
    "\n",
    "However, we do want to investigate what accuracy represents and how it is calculated. Accuracy is the number of correctly classified data points divided by the total number data points. To visualise this better let's have a look at the Confusion Matrix."
   ]
  },
  {
   "attachments": {},
   "cell_type": "markdown",
   "metadata": {},
   "source": [
    "<img src=\"Images/Hulk.jpg\" />"
   ]
  },
  {
   "cell_type": "markdown",
   "metadata": {},
   "source": [
    "### Confusion Matrix"
   ]
  },
  {
   "cell_type": "markdown",
   "metadata": {},
   "source": [
    "A confusion matrix is a way of visualising how well a model predicts each class for the test data set. In our case we running a binary classification (to classify whether an area is barren or mineralised) so we have a 2x2 confusion matrix that looks like this. "
   ]
  },
  {
   "attachments": {},
   "cell_type": "markdown",
   "metadata": {},
   "source": [
    "<img src=\"Images/confmat2.png\" />"
   ]
  },
  {
   "cell_type": "markdown",
   "metadata": {},
   "source": [
    "Ideally we want our model to have as many data points fall into the True Negative or True Positive cells, indicating that the model successfully predicted each point. Here is the equation for accuracy for this confusion matrix."
   ]
  },
  {
   "attachments": {},
   "cell_type": "markdown",
   "metadata": {},
   "source": [
    "<img src=\"Images/Accuracy.png\" />"
   ]
  },
  {
   "cell_type": "markdown",
   "metadata": {},
   "source": [
    "Where;\n",
    " - __TN__ is a barren area classified as a barren area\n",
    " - __FP__ is a barren area classified as a mineralised area\n",
    " - __FN__ is a mineralised area classified as a barren area\n",
    " - __FP__ is a mineralised area classified as a mineralised area"
   ]
  },
  {
   "cell_type": "markdown",
   "metadata": {},
   "source": [
    "With this in mind let's plot the confusion matrix for each cross validation set. (Note: cell output has been manually edited for visualisation purposes)"
   ]
  },
  {
   "cell_type": "code",
   "execution_count": null,
   "metadata": {},
   "outputs": [],
   "source": [
    "plt.rcParams.update({'font.size': 24})\n",
    "\n",
    "#Loop over the CV splits\n",
    "for i, (train, test) in enumerate(gss.split(X, Y, Z)):\n",
    "        \n",
    "        #Fitting the pipeline to training data\n",
    "        pipeline.fit(X.iloc[train].values, Y.iloc[train].values)\n",
    "        \n",
    "        #Predicting the test set\n",
    "        Y_pred = pipeline.predict(X.iloc[test].values)\n",
    "        \n",
    "        #Setting and plotting a confusion matrix\n",
    "        conf_mat = confusion_matrix(Y.iloc[test].values, Y_pred)\n",
    "        fig, ax = plot_confusion_matrix(conf_mat,\n",
    "                                show_absolute=True,\n",
    "                                colorbar=True,\n",
    "                                cmap='Greens',\n",
    "                                figsize=(12,12))\n",
    "        ax.set_title('SVM cv: '+str(i+1))\n",
    "        plt.show()"
   ]
  },
  {
   "attachments": {},
   "cell_type": "markdown",
   "metadata": {},
   "source": [
    "<img src=\"Images/confmatpng.png\" />"
   ]
  },
  {
   "cell_type": "markdown",
   "metadata": {},
   "source": [
    "When we calculated accuracy for each set, the cross validation number 1 returned a decent accuracy with 70.8%, but now looking at the confusion matrix it doesn't seem to be the best fit. It shows that out of the barren areas 16 out of 18 were correctly classified (nice), but only 1 out of 6 mineralised areas were classified correctly (not nice). The correctly classified barren areas hugely impact the accuracy of the model making it appear robust but in reality the models performance is quite poor. \n",
    "\n",
    "As a metric, accuracy is most effective when each class has close to the same number of data points and can become unreliable when there is a big difference in class data (as we just saw in cv:1). To understand the performance of our model given this situation we can look at using different evaluation metrics such as precision and recall."
   ]
  },
  {
   "cell_type": "markdown",
   "metadata": {},
   "source": [
    "### Precision"
   ]
  },
  {
   "cell_type": "markdown",
   "metadata": {},
   "source": [
    "Precision is another way we can evaluate our models robustness by using the following formula."
   ]
  },
  {
   "attachments": {},
   "cell_type": "markdown",
   "metadata": {},
   "source": [
    "<img src=\"Images/Precision.png\" />"
   ]
  },
  {
   "cell_type": "markdown",
   "metadata": {},
   "source": [
    "In our example, this tells us the amount of correctly classified mineralised areas over the amount of both correctly and incorrectly classified mineralised areas. Precision is very important as we want to keep the amount of incorrectly classified (False Positive) data points to a minimum (ie we don't want to classify barren areas as mineralised). It can be calculated in python similarly to accuracy as seen in the next cell."
   ]
  },
  {
   "cell_type": "code",
   "execution_count": 12,
   "metadata": {},
   "outputs": [
    {
     "name": "stdout",
     "output_type": "stream",
     "text": [
      "Precision CV 1: 33.3%\n",
      "Precision CV 2: 65.0%\n",
      "Precision CV 3: 46.7%\n",
      "Precision CV 4: 93.3%\n",
      "Precision CV 5: 66.7%\n",
      "Precision CV 6: 38.3%\n"
     ]
    }
   ],
   "source": [
    "#Looping over each CV split\n",
    "for i, (train, test) in enumerate(gss.split(X, Y, Z)):\n",
    "    \n",
    "    #Fitting the model to the training data\n",
    "    pipeline.fit(X.iloc[train].values, Y.iloc[train].values)\n",
    "    \n",
    "    #Using this model to predict on the test data\n",
    "    Y_pred = pipeline.predict(X.iloc[test].values)\n",
    "    \n",
    "    #Accessing and printing the precision of each train/test set\n",
    "    pre = precision_score(Y.iloc[test], Y_pred)\n",
    "    print('Precision CV '+str(i+1)+': '+\"%.1f\"%(pre*100)+'%')"
   ]
  },
  {
   "cell_type": "markdown",
   "metadata": {},
   "source": [
    "Here we can see that even though CV:1 had a reasonably high accuracy it now has the lowest precision. An important thing to keep in mind."
   ]
  },
  {
   "cell_type": "markdown",
   "metadata": {},
   "source": [
    "### Recall (Sensitivity)"
   ]
  },
  {
   "cell_type": "markdown",
   "metadata": {},
   "source": [
    "Another metric to consider is the recall or sensitivity of the model. This can be calculated as follows. "
   ]
  },
  {
   "attachments": {},
   "cell_type": "markdown",
   "metadata": {},
   "source": [
    "<img src=\"Images/Recall.png\" />"
   ]
  },
  {
   "cell_type": "markdown",
   "metadata": {},
   "source": [
    "Recall tells us the amount of correctly classified mineralised areas over the amount of actual mineralised areas. Recall is important but not as crucial as precision in our case as we would rather mineralised areas be classified as barren than barren areas be classified as mineralised. To get the recall for each cross validation we can use the code in the next cell."
   ]
  },
  {
   "cell_type": "code",
   "execution_count": 13,
   "metadata": {},
   "outputs": [
    {
     "name": "stdout",
     "output_type": "stream",
     "text": [
      "Recall CV 1: 16.7%\n",
      "Recall CV 2: 83.0%\n",
      "Recall CV 3: 18.4%\n",
      "Recall CV 4: 14.4%\n",
      "Recall CV 5: 58.1%\n",
      "Recall CV 6: 72.0%\n"
     ]
    }
   ],
   "source": [
    "#Looping over each CV split\n",
    "for i, (train, test) in enumerate(gss.split(X, Y, Z)):\n",
    "    \n",
    "    #Fitting the model to the training data\n",
    "    pipeline.fit(X.iloc[train].values, Y.iloc[train].values)\n",
    "    \n",
    "    #Using this model to predict on the test data\n",
    "    Y_pred = pipeline.predict(X.iloc[test].values)\n",
    "    \n",
    "    #Accessing and printing the recall of each train/test set\n",
    "    rec = recall_score(Y.iloc[test], Y_pred)\n",
    "    print('Recall CV '+str(i+1)+': '+\"%.1f\"%(rec*100)+'%')"
   ]
  },
  {
   "cell_type": "markdown",
   "metadata": {},
   "source": [
    "### F1 Score"
   ]
  },
  {
   "cell_type": "markdown",
   "metadata": {},
   "source": [
    "With Precision and Recall both being important evaluation metrics it'd be nice to have a single value that represents both these values. That's where the F1 score comes in. This metric is the harmonic mean of both the recall and precision values and can be calculated like this:"
   ]
  },
  {
   "attachments": {},
   "cell_type": "markdown",
   "metadata": {},
   "source": [
    "<img src=\"Images/F1.png\" />"
   ]
  },
  {
   "cell_type": "markdown",
   "metadata": {},
   "source": [
    "The F1 score is the harmonic mean of Precision and Recall instead of the arithmetic mean because if one of the values is really small it is reflected in the F1 score. We can get the F1 Score for each CV in python as seen in the following cell."
   ]
  },
  {
   "cell_type": "code",
   "execution_count": 14,
   "metadata": {},
   "outputs": [
    {
     "name": "stdout",
     "output_type": "stream",
     "text": [
      "F1 Score CV 1: 22.2%\n",
      "F1 Score CV 2: 72.9%\n",
      "F1 Score CV 3: 26.4%\n",
      "F1 Score CV 4: 25.0%\n",
      "F1 Score CV 5: 62.1%\n",
      "F1 Score CV 6: 50.0%\n"
     ]
    }
   ],
   "source": [
    "#Looping over each CV split\n",
    "for i, (train, test) in enumerate(gss.split(X, Y, Z)):\n",
    "    \n",
    "    #Fitting the model to the training data\n",
    "    pipeline.fit(X.iloc[train].values, Y.iloc[train].values)\n",
    "    \n",
    "    #Using this model to predict on the test data\n",
    "    Y_pred = pipeline.predict(X.iloc[test].values)\n",
    "    \n",
    "    #Accessing and printing the precision of each train/test set\n",
    "    F1 = f1_score(Y.iloc[test], Y_pred)\n",
    "    print('F1 Score CV '+str(i+1)+': '+\"%.1f\"%(F1*100)+'%')"
   ]
  },
  {
   "cell_type": "markdown",
   "metadata": {},
   "source": [
    "### Specificity"
   ]
  },
  {
   "cell_type": "markdown",
   "metadata": {},
   "source": [
    "Specificity is closely related to Recall and tells us the exact same information, but for the negative class (aka barren areas). It can be calculated like this."
   ]
  },
  {
   "attachments": {},
   "cell_type": "markdown",
   "metadata": {},
   "source": [
    "<img src=\"Images/Specificity.png\" />"
   ]
  },
  {
   "cell_type": "markdown",
   "metadata": {},
   "source": [
    "Specificity is used when plot the Receiver Operating Characteristics Curve. We will touch on shortly, but first let's see how to view all these metrics in a report. "
   ]
  },
  {
   "cell_type": "markdown",
   "metadata": {},
   "source": [
    "### Classification Report"
   ]
  },
  {
   "cell_type": "markdown",
   "metadata": {},
   "source": [
    "The classification report provides us with the above evaluation metrics for our model. Let's take the first cross validation train/test split and retrieve the classification report for that split using sklearn."
   ]
  },
  {
   "cell_type": "code",
   "execution_count": 15,
   "metadata": {},
   "outputs": [],
   "source": [
    "#Selecting the first cross validation set\n",
    "cv1 = next(itertools.islice(gss.split(X, Y, Z), 0, None))\n",
    "train, test = enumerate(cv1)\n",
    "train = train[1]\n",
    "test = test[1]"
   ]
  },
  {
   "cell_type": "code",
   "execution_count": 16,
   "metadata": {},
   "outputs": [
    {
     "name": "stdout",
     "output_type": "stream",
     "text": [
      "SVM CV: 1 - Classification Report\n",
      "              precision    recall  f1-score   support\n",
      "\n",
      "           0       0.76      0.89      0.82        18\n",
      "           1       0.33      0.17      0.22         6\n",
      "\n",
      "    accuracy                           0.71        24\n",
      "   macro avg       0.55      0.53      0.52        24\n",
      "weighted avg       0.65      0.71      0.67        24\n",
      "\n"
     ]
    }
   ],
   "source": [
    "#Fitting the pipeline to the \n",
    "pipeline.fit(X.iloc[train].values, Y.iloc[train].values)\n",
    "    \n",
    "#Predicting the test data\n",
    "Y_pred = pipeline.predict(X.iloc[test].values)\n",
    "    \n",
    "#Accessing and printing the accuracy of each train/test set\n",
    "cr = classification_report(Y.iloc[test], Y_pred)\n",
    "print('SVM CV: 1 - Classification Report')\n",
    "print(cr)"
   ]
  },
  {
   "cell_type": "markdown",
   "metadata": {},
   "source": [
    "Here we can see the precision, recall and F1 score for both the barren and mineralised areas (0 and 1), the accuracy for the model and how many data points are in each class (support). In this CV the overall accuracy is 71% as we saw earlier, but the other evaluation metrics show that this model did a poor job of classifying mineralised areas, with low precision, recall and F1 scores. This is a great example of why it's important to look past the accuracy metric and assess other means of evaluation.  "
   ]
  },
  {
   "cell_type": "markdown",
   "metadata": {},
   "source": [
    "## Receiver Operator Characteristics & Area Under the Curve"
   ]
  },
  {
   "cell_type": "markdown",
   "metadata": {},
   "source": [
    "Another very common way of evaluating models is by looking at the Receiver Operating Characteristic (ROC) curve and the Area Under the Curve (AUC) value. The ROC curve is a way of visualising the relationship between the recall (sensitivity) and the specificity of a model, but before going too far I think it's important to understand prediction probabilities first. \n",
    "\n",
    "When a machine learning model is predicting what class each sample belongs to it creates a 'prediction probability' for that sample. The following plot is a way of visualising the prediction probability of a sample being classed as positive (or mineralised in our case)."
   ]
  },
  {
   "attachments": {},
   "cell_type": "markdown",
   "metadata": {},
   "source": [
    "<img src=\"Images/probplot.png\" />"
   ]
  },
  {
   "cell_type": "markdown",
   "metadata": {},
   "source": [
    "The dotted line at the 50% probability mark represents a classification threshold. The model classifies any data point above the classification threshold as mineralised and anything below it as barren. The green and red colours represent the actual classes of the test set, where green is mineralised and red is barren. As you can see there are misclassified values above and below the classification threshold, which are the False Negative and the False Positive data points we see in confusion matrices. 50% is the default classification threshold for prediction probability and is what has been used when we have plotted our confusion matrices so far in this example."
   ]
  },
  {
   "cell_type": "markdown",
   "metadata": {},
   "source": [
    "Going back to the ROC curve and AUC value, and adding to the confusion, we'll introduce two new variable names; the True Positive Rate and the False Positive Rate. These are defined as;"
   ]
  },
  {
   "cell_type": "markdown",
   "metadata": {},
   "source": [
    "- __True Positive Rate (TPR)__ = Recall\n",
    "- __False Positive Rate (FPR)__ = (1 - Specificity)"
   ]
  },
  {
   "cell_type": "markdown",
   "metadata": {},
   "source": [
    "In an ROC plot these two values represent the X and Y axis. Here is a figure of what an ROC curve would look like for a generic model:"
   ]
  },
  {
   "attachments": {},
   "cell_type": "markdown",
   "metadata": {},
   "source": [
    "<img src=\"Images/ROCAUC.png\" />"
   ]
  },
  {
   "cell_type": "markdown",
   "metadata": {},
   "source": [
    "To put it simply, the curve represents the relationship between TPR and FPR and the larger the area under the curve the better the model, but how do we plot the curve? If we only get one confusion matrix for each train/test set then we would only be able place one point on an ROC plot. To get the curve we need to consider the classification threshold from the probability plot previously mentioned. We stated that our default classification threshold was 50%, but imagine now that we move that threshold. We would A) get a different confusion matrix, and therefore B) different True Positive and False Positive Rates. This is better illustrated in the figure below, where 7 classification thresholds have been plotted on a probability plot, with example data containing 100 negative data points (barren) and 100 positive data points (mineralised)."
   ]
  },
  {
   "attachments": {},
   "cell_type": "markdown",
   "metadata": {},
   "source": [
    "<img src=\"Images/prob example.png\" />"
   ]
  },
  {
   "cell_type": "markdown",
   "metadata": {},
   "source": [
    "From each of the 7 classification thresholds a confusion matrix can be plotted and the TPR and FPR values calculated, keeping in mind that anything above the threshold is classified as positive and anything below the threshold is classified as negative. The TPR and FPR values can then be plotted on the ROC graph and a curve can be fitted to these points. The way I like to picture it is to imagine that the classification threshold is a bus windscreen wiper, moving across the probability plot from right to left, calculating and plotting the TPR and FPR on the ROC plot as it moves along."
   ]
  },
  {
   "attachments": {},
   "cell_type": "markdown",
   "metadata": {},
   "source": [
    "<img src=\"Images/otto.png\" />"
   ]
  },
  {
   "cell_type": "markdown",
   "metadata": {},
   "source": [
    "Ideally we want to reduce the amount of incorrectly classified data points (False Positive and False Negative values) and in turn keep the curve as close to TPR=1 and FPR=0 as possible until all True Positive samples have been classified. We can then look at the area under the curve and use that as our single value evaluation metric for the model. Varying models and their respective ROC curves can be seen below, where the perfect model returns an AUC of 1.00."
   ]
  },
  {
   "attachments": {},
   "cell_type": "markdown",
   "metadata": {},
   "source": [
    "<img src=\"Images/ROCAUC2.png\" />"
   ]
  },
  {
   "cell_type": "markdown",
   "metadata": {},
   "source": [
    "Now we know how the ROC curve is plotted lets do it in python with our Gawler dataset. For a start we'll only look at the second cross validation set (CV: 2) and start by plotting the classification probability plot."
   ]
  },
  {
   "cell_type": "code",
   "execution_count": 17,
   "metadata": {},
   "outputs": [],
   "source": [
    "#Selecting the first cross validation set\n",
    "cv2 = next(itertools.islice(gss.split(X, Y, Z), 1, None))\n",
    "train, test = enumerate(cv2)\n",
    "train = train[1]\n",
    "test = test[1]"
   ]
  },
  {
   "cell_type": "code",
   "execution_count": 18,
   "metadata": {},
   "outputs": [
    {
     "data": {
      "image/png": "[encoded data removed]",
      "text/plain": [
       "<Figure size 1080x504 with 1 Axes>"
      ]
     },
     "metadata": {
      "needs_background": "light"
     },
     "output_type": "display_data"
    }
   ],
   "source": [
    "#Fitting the pipeline on the training data and predicting the test\n",
    "pipeline.fit(X.iloc[train], Y.iloc[train])\n",
    "prediction=pipeline.predict_proba(X.iloc[test])[:,1]\n",
    "\n",
    "#Plotting the probability plot\n",
    "plt.figure(figsize=(15,7))\n",
    "plt.hist(prediction[Y.iloc[test]==0], bins=30, label='Barren', color='r')\n",
    "plt.hist(prediction[Y.iloc[test]==1], bins=30, label='Mineralised', alpha=0.9, color='springgreen')\n",
    "plt.xlabel('Probability of Area Being Classified as Mineralised', fontsize=14)\n",
    "plt.ylabel('Counts', fontsize=14)\n",
    "plt.legend(title='Actual Values', fontsize=15)\n",
    "plt.tick_params(axis='both', labelsize=14, pad=5)\n",
    "plt.show() "
   ]
  },
  {
   "cell_type": "markdown",
   "metadata": {},
   "source": [
    "Here we can see how our SVM model assigned mineralised prediction probabilities for the CV:2 test set, where the samples are coloured by their actual values. We can see straight away that the majority of mineralised samples were assigned high prediction probabilities, which is a good sign, but there are still some negative samples grouped amongst them. Let's look at the ROC curve for these samples and the associated AUC value."
   ]
  },
  {
   "cell_type": "code",
   "execution_count": 19,
   "metadata": {},
   "outputs": [
    {
     "data": {
      "image/png": "[encoded data removed]",
      "text/plain": [
       "<Figure size 720x720 with 1 Axes>"
      ]
     },
     "metadata": {
      "needs_background": "light"
     },
     "output_type": "display_data"
    },
    {
     "name": "stdout",
     "output_type": "stream",
     "text": [
      "Area Under the Curve : 78.4%\n"
     ]
    }
   ],
   "source": [
    "#Getting the FPR, TPR and thresholds from the test data\n",
    "fpr, tpr, thresholds = roc_curve(Y.iloc[test], prediction)\n",
    "\n",
    "#Update some figure settings\n",
    "plt.rcParams.update({'font.size': 14})\n",
    "plt.figure(figsize=(10,10))\n",
    "\n",
    "#Plot the roc curve\n",
    "plt.plot([0,1], [0,1], linestyle='--', label='Chance', c='r', lw=2)\n",
    "plt.plot(fpr, tpr, marker='.', label='SVM cv: 2', c='deepskyblue', lw='3')\n",
    "plt.fill_between(fpr, tpr, color='deepskyblue', alpha=0.2)\n",
    "\n",
    "#Updating labels\n",
    "plt.xlabel('False Positive Rate')\n",
    "plt.ylabel('True Positive Rate')\n",
    "plt.title('ROC Curve SVM cv: 2')\n",
    "plt.legend()\n",
    "# show the plot\n",
    "plt.show()\n",
    "\n",
    "AUC = auc(fpr,tpr)\n",
    "print('Area Under the Curve : '+\"%.1f\"%(AUC*100)+'%')"
   ]
  },
  {
   "cell_type": "markdown",
   "metadata": {},
   "source": [
    "An AUC value of 78.4% is pretty good and the shape of the curve looks nice, but in this plot the curve is stepped. This is because the amount of data in the test set is quite small, and each step in the curve is representative of the classification threshold. This makes no difference in how we calculate the AUC and just means we don't have enough data to get the 'smooth' ROC curve we saw in the earlier example. Now let's have a look at the ROC curve for all of the cross validations and compare them. "
   ]
  },
  {
   "cell_type": "code",
   "execution_count": 20,
   "metadata": {},
   "outputs": [
    {
     "data": {
      "image/png": "[encoded data removed]",
      "text/plain": [
       "<Figure size 864x720 with 1 Axes>"
      ]
     },
     "metadata": {
      "needs_background": "light"
     },
     "output_type": "display_data"
    }
   ],
   "source": [
    "#Setting the chance line and empty lists\n",
    "mean_fpr = np.linspace(0, 1, 100)\n",
    "tprs = []\n",
    "aucs = []\n",
    "\n",
    "#Updating figure settings\n",
    "plt.rcParams.update({'font.size': 14})\n",
    "fig, ax = plt.subplots(figsize=(12,10))\n",
    "\n",
    "#Fitting our model and plotting each cv set\n",
    "for i, (train, test) in enumerate(gss.split(X, Y, Z)):\n",
    "    \n",
    "    pipeline = Pipeline([('transformer', scalar), ('estimator', model)])\n",
    "    pipeline.fit(X.iloc[train], Y.iloc[train])\n",
    "    viz = plot_roc_curve(pipeline, X.iloc[test], Y.iloc[test],\n",
    "                         name='ROC cv: {}'.format(i+1),\n",
    "                         alpha=0.6, lw=1.5, ax=ax)\n",
    "    interp_tpr = interp(mean_fpr, viz.fpr, viz.tpr)\n",
    "    interp_tpr[0] = 0.0\n",
    "    tprs.append(interp_tpr)\n",
    "    aucs.append(viz.roc_auc)\n",
    "\n",
    "#Plotting the chance line\n",
    "ax.plot([0, 1], [0, 1], linestyle='--', lw=2, color='r',\n",
    "            label='Chance', alpha=.8)\n",
    "\n",
    "#Plotting the mean and std of all cv\n",
    "mean_tpr = np.mean(tprs, axis=0)\n",
    "mean_tpr[-1] = 1.0\n",
    "mean_auc = auc(mean_fpr, mean_tpr)\n",
    "std_auc = np.std(aucs)\n",
    "ax.plot(mean_fpr, mean_tpr, color='b',\n",
    "        label=r'Mean ROC (AUC = %0.2f $\\pm$ %0.2f)' % (mean_auc, std_auc),\n",
    "        lw=3, alpha=.8)\n",
    "std_tpr = np.std(tprs, axis=0)\n",
    "tprs_upper = np.minimum(mean_tpr + std_tpr, 1)\n",
    "tprs_lower = np.maximum(mean_tpr - std_tpr, 0)\n",
    "ax.fill_between(mean_fpr, tprs_lower, tprs_upper, color='grey', alpha=.2,\n",
    "                label=r'$\\pm$ 1 std. dev.')\n",
    "\n",
    "#Updating figure settings\n",
    "ax.set(xlim=[-0.01, 1.01], ylim=[-0.01, 1.01],\n",
    "       title=\"Receiver Operating Characteristic - Support Vector Machine\")\n",
    "ax.legend(loc=\"lower right\")\n",
    "plt.show()"
   ]
  },
  {
   "cell_type": "markdown",
   "metadata": {},
   "source": [
    "Again, we can see quite a large variance of how the SVM model performs over our different cross validation sets. In particular, CV: 3 is classifying horrifically, with CV:4 and CV:6 not far behind. Here would be a good opportunity to assess which zone data was incorporated into those cross validation sets and determine why they are performing so badly in comparison to the others. Given that we are happy with evaluation metrics from this SVM classifier, we could go on to fit the model to our unknown data and see how it predicts the unknown areas for mineralisation in the Gawler Craton, but we'll leave that for another day."
   ]
  },
  {
   "cell_type": "markdown",
   "metadata": {},
   "source": [
    "## Conclusion"
   ]
  },
  {
   "cell_type": "markdown",
   "metadata": {},
   "source": [
    "In this notebook we've looked at how to spatially cross validate train/test datasets, how to construct a pipeline of steps for reproducible data scaling and fitting and looked at the most common ways of evaluating classification models. From this notebook I hope you keep these things in mind;"
   ]
  },
  {
   "cell_type": "markdown",
   "metadata": {},
   "source": [
    "- Using Group Shuffle Split is a good way to reduce the effects of spatial autocorrelation through grouped cross validation\n",
    "\n",
    "- Pipeline is a very useful tool for preventing data leakage\n",
    "\n",
    "- Accuracy is only useful when you're predicting classes with the same amount of data points (or close to)\n",
    "\n",
    "- It's important to look past the model accuracy and explore other evaluation metrics before deciding on a model"
   ]
  },
  {
   "cell_type": "markdown",
   "metadata": {},
   "source": [
    "## Helpful Links"
   ]
  },
  {
   "cell_type": "markdown",
   "metadata": {},
   "source": [
    "[Evaluating a Classification Model](https://www.ritchieng.com/machine-learning-evaluate-classification-model/)\n",
    "\n",
    "[Beyond Accuracy: Precision and Recall](https://towardsdatascience.com/beyond-accuracy-precision-and-recall-3da06bea9f6c)\n",
    "\n",
    "[Accuracy, Precision, Recall or F1?](https://towardsdatascience.com/accuracy-precision-recall-or-f1-331fb37c5cb9)\n",
    "\n",
    "[Metrics to Evaluate your Machine Learning Algorithm](https://towardsdatascience.com/metrics-to-evaluate-your-machine-learning-algorithm-f10ba6e38234)\n",
    "\n",
    "[Beginners Guide to Understanding ROC Curve](https://analyticsindiamag.com/beginners-guide-to-understanding-roc-curve-how-to-find-the-perfect-probability-threshold/)\n",
    "\n",
    "[Understanding AUC - ROC Curve](https://towardsdatascience.com/understanding-auc-roc-curve-68b2303cc9c5)"
   ]
  }
 ],
 "metadata": {
  "kernelspec": {
   "display_name": "Python 3",
   "language": "python",
   "name": "python3"
  },
  "language_info": {
   "codemirror_mode": {
    "name": "ipython",
    "version": 3
   },
   "file_extension": ".py",
   "mimetype": "text/x-python",
   "name": "python",
   "nbconvert_exporter": "python",
   "pygments_lexer": "ipython3",
   "version": "3.7.4"
  }
 },
 "nbformat": 4,
 "nbformat_minor": 4
}
